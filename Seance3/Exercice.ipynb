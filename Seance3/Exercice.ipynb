{
 "cells": [
  {
   "metadata": {
    "ExecuteTime": {
     "end_time": "2024-10-16T13:32:45.985200Z",
     "start_time": "2024-10-16T13:32:45.982080Z"
    }
   },
   "cell_type": "code",
   "source": [
    "import cv2\n",
    "import numpy as np\n",
    "import os\n",
    "from sklearn.cluster import KMeans\n",
    "import matplotlib.pyplot as plt"
   ],
   "id": "ebbf693778c82d81",
   "outputs": [],
   "execution_count": 2
  },
  {
   "metadata": {
    "ExecuteTime": {
     "end_time": "2024-10-16T13:32:47.848484Z",
     "start_time": "2024-10-16T13:32:47.841697Z"
    }
   },
   "cell_type": "code",
   "source": [
    "def dominant_colors(image_path, k=3):\n",
    "    # Charger l'image\n",
    "    image = cv2.imread(image_path)\n",
    "    image = cv2.cvtColor(image, cv2.COLOR_BGR2RGB)\n",
    "    \n",
    "    # Reshape de l'image à 2D\n",
    "    pixels = image.reshape(-1, 3)\n",
    "    \n",
    "    # K-means clustering\n",
    "    kmeans = KMeans(n_clusters=k)\n",
    "    kmeans.fit(pixels)\n",
    "    \n",
    "    # Obtenir les couleurs dominantes\n",
    "    colors = kmeans.cluster_centers_\n",
    "    colors = colors.astype(int)\n",
    "    \n",
    "    return colors"
   ],
   "id": "367470fe6dad39c6",
   "outputs": [],
   "execution_count": 3
  },
  {
   "metadata": {
    "ExecuteTime": {
     "end_time": "2024-10-16T13:32:49.252252Z",
     "start_time": "2024-10-16T13:32:49.247847Z"
    }
   },
   "cell_type": "code",
   "source": [
    "def color_similarity(colors1, colors2):\n",
    "    # Calcule la distance euclidienne moyenne entre les couleurs dominantes\n",
    "    distances = []\n",
    "    for color1 in colors1:\n",
    "        for color2 in colors2:\n",
    "            distance = np.linalg.norm(color1 - color2)\n",
    "            distances.append(distance)\n",
    "    return np.mean(distances)"
   ],
   "id": "44a060e7591d3ce9",
   "outputs": [],
   "execution_count": 4
  },
  {
   "metadata": {
    "ExecuteTime": {
     "end_time": "2024-10-16T13:32:50.091213Z",
     "start_time": "2024-10-16T13:32:50.083972Z"
    }
   },
   "cell_type": "code",
   "source": [
    "def plot_colors(colors, title):\n",
    "    # Afficher les couleurs dominantes\n",
    "    plt.figure(figsize=(6, 2))\n",
    "    plt.title(title)\n",
    "    plt.axis('off')\n",
    "    \n",
    "    # Créer une image de couleur\n",
    "    color_img = np.zeros((100, 600, 3), dtype=np.uint8)\n",
    "    step = color_img.shape[1] // len(colors)\n",
    "    \n",
    "    for i, color in enumerate(colors):\n",
    "        color_img[:, i * step:(i + 1) * step] = color\n",
    "    \n",
    "    plt.imshow(color_img)\n",
    "    plt.show()"
   ],
   "id": "a4489bab4f87c590",
   "outputs": [],
   "execution_count": 5
  },
  {
   "metadata": {
    "ExecuteTime": {
     "end_time": "2024-10-16T13:32:51.686767Z",
     "start_time": "2024-10-16T13:32:51.075153Z"
    }
   },
   "cell_type": "code",
   "source": [
    "image_folder = '/Users/marouandgh/IdeaProjects/multi/img'  # Remplacez par le chemin de votre dossier d'images\n",
    "image_names = os.listdir(image_folder)\n",
    "image_paths = [os.path.join(image_folder, image_name) for image_name in image_names if image_name.endswith(('.jpg', '.png'))]\n",
    "\n",
    "dominant_colors_list = [dominant_colors(image_path) for image_path in image_paths]\n",
    "\n",
    "# Calculer la similarité entre les premières images\n",
    "similarity_score = color_similarity(dominant_colors_list[0], dominant_colors_list[1])\n",
    "print(f'Similarity score between {image_names[0]} and {image_names[1]}: {similarity_score}')\n",
    "\n",
    "# Afficher les couleurs dominantes\n",
    "plot_colors(dominant_colors_list[0], f'Dominant Colors in {image_names[0]}')\n",
    "plot_colors(dominant_colors_list[1], f'Dominant Colors in {image_names[1]}')"
   ],
   "id": "15fac703ef4153f6",
   "outputs": [
    {
     "name": "stdout",
     "output_type": "stream",
     "text": [
      "Similarity score between img_1.png and img_2.png: 127.41344845079509\n"
     ]
    },
    {
     "data": {
      "text/plain": [
       "<Figure size 600x200 with 1 Axes>"
      ],
      "image/png": "[encoded data removed]"
     },
     "metadata": {},
     "output_type": "display_data"
    },
    {
     "data": {
      "text/plain": [
       "<Figure size 600x200 with 1 Axes>"
      ],
      "image/png": "[encoded data removed]"
     },
     "metadata": {},
     "output_type": "display_data"
    }
   ],
   "execution_count": 6
  },
  {
   "metadata": {},
   "cell_type": "code",
   "outputs": [],
   "execution_count": null,
   "source": "",
   "id": "e077af3862a263f2"
  }
 ],
 "metadata": {
  "kernelspec": {
   "display_name": "Python 3",
   "language": "python",
   "name": "python3"
  },
  "language_info": {
   "codemirror_mode": {
    "name": "ipython",
    "version": 2
   },
   "file_extension": ".py",
   "mimetype": "text/x-python",
   "name": "python",
   "nbconvert_exporter": "python",
   "pygments_lexer": "ipython2",
   "version": "2.7.6"
  }
 },
 "nbformat": 4,
 "nbformat_minor": 5
}
